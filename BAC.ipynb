{
 "cells": [
  {
   "cell_type": "markdown",
   "id": "8698cdf2",
   "metadata": {},
   "source": [
    "# Blood Alcohol Module"
   ]
  },
  {
   "cell_type": "markdown",
   "id": "c08ce9bd",
   "metadata": {},
   "source": [
    "## Overview\n",
    "\n",
    "<p> The data for this project is from <em> Calculus & Mathematica </em> by Bill Davis, William Davis, Horacio Porta, and J. Jerry Uhl. It was published in 1994 by Addison Wesley Longman Inc. I accessed it through <em> A Course in Mathematical Modeling </em> by Douglas D. Mooney and Randall Swift, published by The Mathematical Association of America, 1999. </p>\n",
    "<p> From <em> A Course in Mathematical Modeling </em>:\n",
    "    <li> the average human body eliminates 12 grams of alcohol per hour. </li>\n",
    "    <li> An average college age male in good shape weighing K kilograms has about .68K liters\n",
    "        of fluid in his body. </li>\n",
    "    <li>A college-age female in good shape weighing K kilograms has\n",
    "         about .65K liters of fluid in her body. </li>\n",
    "</p>\n",
    "For now, we will consider the following drinks: \n",
    "\n",
    "| type of drink | grams of alchohol |\n",
    "| :- | :- |\n",
    "| beer | 13.6 |\n",
    "| light | 11.3 |\n",
    "| wine | 10.9 |\n",
    "| vodka | 16.7 |\n",
    "| bourbon | 13.4 |"
   ]
  },
  {
   "cell_type": "markdown",
   "id": "8e223575",
   "metadata": {},
   "source": [
    "## Helper Functions"
   ]
  },
  {
   "cell_type": "code",
   "execution_count": 1,
   "id": "3de0c420",
   "metadata": {},
   "outputs": [],
   "source": [
    "import numpy as np\n",
    "import matplotlib.pyplot as plt\n",
    "import seaborn as sns"
   ]
  },
  {
   "cell_type": "code",
   "execution_count": 2,
   "id": "3f08a962",
   "metadata": {},
   "outputs": [],
   "source": [
    "# the human body expells 0.12 grams of alcohol per minute\n",
    "def elimination_rate(x):\n",
    "    return  x - 0.2"
   ]
  },
  {
   "cell_type": "code",
   "execution_count": 3,
   "id": "cc2a2637",
   "metadata": {},
   "outputs": [],
   "source": [
    "\"\"\"\n",
    "function body_fluid_l\n",
    "returns the amound of body fluid in a person in litres\n",
    "inputs:\n",
    "    gender : 'm' or 'f'\n",
    "    weight : in pounds\n",
    "output:\n",
    "    body fluid (L)\n",
    "\"\"\"\n",
    "\n",
    "def body_fluid_l(gender, weight):\n",
    "    # differing body fluid proportions by gender\n",
    "    if gender == 'm':\n",
    "        factor = 0.68\n",
    "    else:\n",
    "        factor = 0.65\n",
    "    return (weight / 2.2046) * factor * 10"
   ]
  },
  {
   "cell_type": "code",
   "execution_count": 4,
   "id": "7d6028d7",
   "metadata": {},
   "outputs": [],
   "source": [
    "\"\"\"\n",
    "function BAC()\n",
    "calculates the Blood Alcohol Level (BAC)\n",
    "inputs:\n",
    "    N-steps : number of recursions\n",
    "    fluid_l : body fluid amount of invidual, litres\n",
    "    alcohol : a list of the drinks taken\n",
    "    time    : a list of drinking intervals, minutes\n",
    "output:\n",
    "    BAC level array\n",
    "\"\"\"\n",
    "\n",
    "# our alcohol options and their respective grams of alcohol\n",
    "alcohol_dict = {'beer' : 13.6, \n",
    "                'light': 11.3,\n",
    "                'wine' : 10.9, \n",
    "                'vodka' : 16.7, \n",
    "                'bourbon' : 13.4}\n",
    "\n",
    "def BAC(N_steps, fluid_l, alcohol, time):\n",
    "    # select our keys and values \n",
    "    if alcohol in alcohol_dict.keys():\n",
    "        global alcohol_grams\n",
    "        alcohol_grams = alcohol_dict.get(alcohol)\n",
    "    else:\n",
    "        return 'this alcohol is not in the starting dictionary'\n",
    "    \n",
    "    # run our recurrence\n",
    "    x0 = alcohol_grams\n",
    "    X = run_recurrence(elimination_rate, alcohol_grams, N_steps, time)\n",
    "    \n",
    "    return X / fluid_l"
   ]
  },
  {
   "cell_type": "code",
   "execution_count": 5,
   "id": "84745d11",
   "metadata": {},
   "outputs": [],
   "source": [
    "\"\"\"\n",
    "function run_recurrence\n",
    "Runs the recurrence relation defined by x(n+1) = f(x(n))\n",
    "inputs:\n",
    "    f : our reccurence relation\n",
    "    x0: the initial state of the recurrence relation\n",
    "    N_steps: the number of steps you want to run your recurrence.\n",
    "    time : the drinking intervals\n",
    "output:\n",
    "    X : a large array containing all computed steps. X[k] is the kth step of the recurrence.\n",
    "\"\"\"\n",
    "\n",
    "def run_recurrence(f,x0,N_steps, time, *args):\n",
    "    x0 = np.array(x0) \n",
    "    # initializing X\n",
    "    X = np.empty((N_steps+1,*x0.shape)) \n",
    "    X[0] = x0 \n",
    "    for i in range(1,N_steps+1):\n",
    "        if i in time:\n",
    "            # grams of alcohol per drink\n",
    "            X[i] = X[i-1] + alcohol_grams \n",
    "        else:\n",
    "            # looping through our recurrence relation\n",
    "            X[i]=f(X[i-1],*args)\n",
    "    return X"
   ]
  },
  {
   "cell_type": "code",
   "execution_count": 6,
   "id": "aad1b969",
   "metadata": {},
   "outputs": [],
   "source": [
    "\"\"\"\n",
    "function alcohol_plot()\n",
    "plots blood alcohol level (BAC) over time\n",
    "inputs:\n",
    "    X : our BAC level array\n",
    "output:\n",
    "    a plot of BAC level\n",
    "\"\"\"\n",
    "def pos(lst):\n",
    "    # returning only positive BAC levels\n",
    "    return [x for x in lst if x > 0] or None \n",
    "\n",
    "def alcohol_plot(X):\n",
    "    \n",
    "    X = pos(X)\n",
    "    plot_ = sns.lineplot(x = np.arange(len(X)),y = X, linewidth = 3)\n",
    "    \n",
    "    plot_.set_xticks(range(0, len(X), 60))\n",
    "    plot_.set_xticklabels(range(0, len(X), 60))\n",
    "                \n",
    "        \n",
    "    plt.xlabel('minutes passed')\n",
    "    plt.ylabel('alcohol concentration')\n",
    "    plt.title('blood alcohol concentration vs time')\n",
    "    \n",
    "    # adding legal BAC level, CA\n",
    "    plt.axhline(y = 0.08, color = \"orange\", \n",
    "                label = \"0.08 gm / 100 ml\", linewidth = 3)\n",
    "    \n",
    "    plt.legend(loc = \"upper right\")\n",
    "    plt.ylim(0)\n",
    "    plt.ylim(0)\n",
    "    sns.set(rc={\"figure.figsize\":(9, 6)})\n",
    "    sns.set_style('white')\n",
    "    plt.show()"
   ]
  },
  {
   "cell_type": "code",
   "execution_count": 7,
   "id": "64fbe063",
   "metadata": {},
   "outputs": [],
   "source": [
    "\"\"\"\n",
    "function BAC_analysis\n",
    "this bad boy puts it all together!\n",
    "inputs:\n",
    "    gender  : 'm' or 'f'\n",
    "    weight  : in pounds\n",
    "    alcohol : type of alcohol, pulled from starting dictionary\n",
    "    time    : a list of time when the invidual drinks\n",
    "output:\n",
    "    our analysis!\n",
    "\"\"\"\n",
    "\n",
    "\n",
    "def BAC_analysis(gender, weight, alcohol, time):\n",
    "    fluid_l = body_fluid_l(gender, weight)\n",
    "    levels = BAC(N_steps = 800, fluid_l = fluid_l, alcohol = alcohol, time = time)\n",
    "    \n",
    "    legal = len(levels[levels >= 0.08])\n",
    "    \n",
    "    print(f'This individual has a body fluid level of {round(fluid_l, 2)} litres.') \n",
    "    print(f'They have drank {len(time)} amounts of {alcohol}, '\n",
    "          f'which is {len(time) * int(alcohol_grams)} grams of alcohol.')\n",
    "    print(f'They will have a BAC over the legal blood alcohol level for {legal} minutes.')\n",
    "    alcohol_plot(X = levels)"
   ]
  },
  {
   "cell_type": "markdown",
   "id": "19994004",
   "metadata": {},
   "source": [
    "## Examples"
   ]
  },
  {
   "cell_type": "code",
   "execution_count": 8,
   "id": "ba1054f2",
   "metadata": {},
   "outputs": [
    {
     "name": "stdout",
     "output_type": "stream",
     "text": [
      "This individual has a body fluid level of 462.67 litres.\n",
      "They have drank 6 amounts of beer, which is 78 grams of alcohol.\n",
      "They will have a BAC over the legal blood alcohol level for 199 minutes.\n"
     ]
    },
    {
     "data": {
      "image/png": "[encoded data removed]",
      "text/plain": [
       "<Figure size 432x288 with 1 Axes>"
      ]
     },
     "metadata": {
      "needs_background": "light"
     },
     "output_type": "display_data"
    }
   ],
   "source": [
    "drink_time = [0, 10, 20, 30, 40, 50]\n",
    "BAC_analysis(gender = 'm', weight = 150, alcohol = 'beer', time = drink_time)"
   ]
  },
  {
   "cell_type": "code",
   "execution_count": 9,
   "id": "e36503a2",
   "metadata": {},
   "outputs": [
    {
     "name": "stdout",
     "output_type": "stream",
     "text": [
      "This individual has a body fluid level of 353.81 litres.\n",
      "They have drank 6 amounts of vodka, which is 96 grams of alcohol.\n",
      "They will have a BAC over the legal blood alcohol level for 352 minutes.\n"
     ]
    },
    {
     "data": {
      "image/png": "[encoded data removed]",
      "text/plain": [
       "<Figure size 648x432 with 1 Axes>"
      ]
     },
     "metadata": {},
     "output_type": "display_data"
    }
   ],
   "source": [
    "drink_time = [0, 10, 30, 50, 80, 120]\n",
    "BAC_analysis(gender = 'f', weight = 120, alcohol = 'vodka', time = drink_time)"
   ]
  },
  {
   "cell_type": "markdown",
   "id": "6d18b288",
   "metadata": {},
   "source": [
    "## Overview"
   ]
  },
  {
   "cell_type": "markdown",
   "id": "718aaa8a",
   "metadata": {},
   "source": [
    "<p> It is important to drink safely. An individual should know their tolerance level, drink water often, take ample time before drinks, sleep, and more. Binge drinking can lead to many preventable problems, either health or socially related. This project was a great introduction to BAC analysis and I hope that it can help educate others! </p>\n",
    "<p> One assumption of this model is that the individual is a healthy college student. If I were to expand on this project, it would be great to write helper functions to calculate different alcohol explellation rates based on factors such as age.</p>\n",
    "<p> This model also has a limited number of alcoholic drinks available. I hope that users can add new drinks to the alcohol dictionary if they would like.</p>  \n",
    "<p> This is also a discrete time model. Maybe one day I can make this into a continuous time model.</p>\n",
    "<p> I once again want to credit <em> Calculus & Mathematica </em> by Bill Davis, William Davis, Horacio Porta, and J. Jerry Uhl, published in 1994 by Addison Wesley Longman Inc. I and accessed in <em> A Course in Mathematical Modeling </em> by Douglas D. Mooney and Randall Swift, published by The Mathematical Association of America, 1999. Please check out these textbooks, their projects are amazing.</p>"
   ]
  }
 ],
 "metadata": {
  "kernelspec": {
   "display_name": "Python 3 (ipykernel)",
   "language": "python",
   "name": "python3"
  },
  "language_info": {
   "codemirror_mode": {
    "name": "ipython",
    "version": 3
   },
   "file_extension": ".py",
   "mimetype": "text/x-python",
   "name": "python",
   "nbconvert_exporter": "python",
   "pygments_lexer": "ipython3",
   "version": "3.9.7"
  }
 },
 "nbformat": 4,
 "nbformat_minor": 5
}
